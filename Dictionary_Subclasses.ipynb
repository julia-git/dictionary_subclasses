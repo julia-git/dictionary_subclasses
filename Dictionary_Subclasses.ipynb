{
 "cells": [
  {
   "cell_type": "markdown",
   "metadata": {},
   "source": [
    "# Beyond Python's Built-In Dictionaries: Create Dictionaries Like a Pro"
   ]
  },
  {
   "cell_type": "markdown",
   "metadata": {},
   "source": [
    "### The three dict subclasses explored below are:\n",
    "1) Counter\n"
   ]
  },
  {
   "cell_type": "markdown",
   "metadata": {},
   "source": [
    "2) OrderedDict "
   ]
  },
  {
   "cell_type": "markdown",
   "metadata": {},
   "source": [
    "3) DefaultDict"
   ]
  },
  {
   "cell_type": "markdown",
   "metadata": {},
   "source": [
    "## 1) Counter"
   ]
  },
  {
   "cell_type": "markdown",
   "metadata": {},
   "source": [
    "### Most beginners will write code like this"
   ]
  },
  {
   "cell_type": "code",
   "execution_count": 1,
   "metadata": {},
   "outputs": [],
   "source": [
    "my_list = ['apple', 'dragonfruit', 'apple', 'banana', 'banana', 'grape', 'strawberry', \\\n",
    "           'peach', 'grape', 'apple', 'watermelon']\n",
    "fruits = {}\n",
    "\n",
    "for item in my_list:\n",
    "    if item in fruits:\n",
    "        fruits[item] += 1\n",
    "    else:\n",
    "        fruits[item] = 1"
   ]
  },
  {
   "cell_type": "code",
   "execution_count": 2,
   "metadata": {},
   "outputs": [
    {
     "data": {
      "text/plain": [
       "{'apple': 3,\n",
       " 'dragonfruit': 1,\n",
       " 'banana': 2,\n",
       " 'grape': 2,\n",
       " 'strawberry': 1,\n",
       " 'peach': 1,\n",
       " 'watermelon': 1}"
      ]
     },
     "execution_count": 2,
     "metadata": {},
     "output_type": "execute_result"
    }
   ],
   "source": [
    "fruits"
   ]
  },
  {
   "cell_type": "markdown",
   "metadata": {},
   "source": [
    "### A better, cleaner way to do this is to use Counter"
   ]
  },
  {
   "cell_type": "code",
   "execution_count": 7,
   "metadata": {},
   "outputs": [],
   "source": [
    "from collections import Counter\n",
    "\n",
    "my_list = ['apple', 'dragonfruit', 'apple', 'banana', 'banana', 'grape', 'strawberry', \\\n",
    "           'peach', 'grape', 'apple', 'watermelon']\n",
    "fruits = Counter(my_list)"
   ]
  },
  {
   "cell_type": "code",
   "execution_count": 8,
   "metadata": {},
   "outputs": [
    {
     "data": {
      "text/plain": [
       "Counter({'apple': 3,\n",
       "         'dragonfruit': 1,\n",
       "         'banana': 2,\n",
       "         'grape': 2,\n",
       "         'strawberry': 1,\n",
       "         'peach': 1,\n",
       "         'watermelon': 1})"
      ]
     },
     "execution_count": 8,
     "metadata": {},
     "output_type": "execute_result"
    }
   ],
   "source": [
    "fruits"
   ]
  },
  {
   "cell_type": "code",
   "execution_count": 9,
   "metadata": {},
   "outputs": [
    {
     "data": {
      "text/plain": [
       "11"
      ]
     },
     "execution_count": 9,
     "metadata": {},
     "output_type": "execute_result"
    }
   ],
   "source": [
    "sum(fruits.values()) ##Total count of the items in your Counter dictionary"
   ]
  },
  {
   "cell_type": "markdown",
   "metadata": {},
   "source": [
    "### Methods"
   ]
  },
  {
   "cell_type": "code",
   "execution_count": 10,
   "metadata": {},
   "outputs": [
    {
     "data": {
      "text/plain": [
       "[('apple', 3),\n",
       " ('banana', 2),\n",
       " ('grape', 2),\n",
       " ('dragonfruit', 1),\n",
       " ('strawberry', 1),\n",
       " ('peach', 1),\n",
       " ('watermelon', 1)]"
      ]
     },
     "execution_count": 10,
     "metadata": {},
     "output_type": "execute_result"
    }
   ],
   "source": [
    "fruits.most_common() #This returns the fruits in descending order"
   ]
  },
  {
   "cell_type": "code",
   "execution_count": 11,
   "metadata": {},
   "outputs": [
    {
     "data": {
      "text/plain": [
       "[('watermelon', 1),\n",
       " ('peach', 1),\n",
       " ('strawberry', 1),\n",
       " ('dragonfruit', 1),\n",
       " ('grape', 2),\n",
       " ('banana', 2),\n",
       " ('apple', 3)]"
      ]
     },
     "execution_count": 11,
     "metadata": {},
     "output_type": "execute_result"
    }
   ],
   "source": [
    "fruits.most_common()[::-1] #This returns the fruits in ascending order"
   ]
  },
  {
   "cell_type": "code",
   "execution_count": 12,
   "metadata": {},
   "outputs": [
    {
     "data": {
      "text/plain": [
       "Counter({'peach': 1, 'apple': 1})"
      ]
     },
     "execution_count": 12,
     "metadata": {},
     "output_type": "execute_result"
    }
   ],
   "source": [
    "more_fruits = Counter(['peach', 'apple']) #Let's create a second counter dictionary\n",
    "more_fruits"
   ]
  },
  {
   "cell_type": "markdown",
   "metadata": {},
   "source": [
    "### Useful mathematical operations for counter dictionaries below"
   ]
  },
  {
   "cell_type": "code",
   "execution_count": 13,
   "metadata": {
    "scrolled": true
   },
   "outputs": [
    {
     "data": {
      "text/plain": [
       "Counter({'apple': 4,\n",
       "         'dragonfruit': 1,\n",
       "         'banana': 2,\n",
       "         'grape': 2,\n",
       "         'strawberry': 1,\n",
       "         'peach': 2,\n",
       "         'watermelon': 1})"
      ]
     },
     "execution_count": 13,
     "metadata": {},
     "output_type": "execute_result"
    }
   ],
   "source": [
    "fruits + more_fruits #add the two dicts"
   ]
  },
  {
   "cell_type": "code",
   "execution_count": 14,
   "metadata": {},
   "outputs": [
    {
     "data": {
      "text/plain": [
       "Counter({'apple': 2,\n",
       "         'dragonfruit': 1,\n",
       "         'banana': 2,\n",
       "         'grape': 2,\n",
       "         'strawberry': 1,\n",
       "         'watermelon': 1})"
      ]
     },
     "execution_count": 14,
     "metadata": {},
     "output_type": "execute_result"
    }
   ],
   "source": [
    "fruits - more_fruits #subtract more_fruits from fruits"
   ]
  },
  {
   "cell_type": "code",
   "execution_count": 15,
   "metadata": {},
   "outputs": [
    {
     "data": {
      "text/plain": [
       "Counter({'apple': 1, 'peach': 1})"
      ]
     },
     "execution_count": 15,
     "metadata": {},
     "output_type": "execute_result"
    }
   ],
   "source": [
    "fruits & more_fruits #intersection:  min(fruit, more_fruits)"
   ]
  },
  {
   "cell_type": "code",
   "execution_count": 16,
   "metadata": {},
   "outputs": [
    {
     "data": {
      "text/plain": [
       "Counter({'apple': 3,\n",
       "         'dragonfruit': 1,\n",
       "         'banana': 2,\n",
       "         'grape': 2,\n",
       "         'strawberry': 1,\n",
       "         'peach': 1,\n",
       "         'watermelon': 1})"
      ]
     },
     "execution_count": 16,
     "metadata": {},
     "output_type": "execute_result"
    }
   ],
   "source": [
    "fruits | more_fruits #union:  max(fruit, more_fruits)"
   ]
  },
  {
   "cell_type": "code",
   "execution_count": 17,
   "metadata": {},
   "outputs": [
    {
     "data": {
      "text/plain": [
       "['apple',\n",
       " 'apple',\n",
       " 'apple',\n",
       " 'dragonfruit',\n",
       " 'banana',\n",
       " 'banana',\n",
       " 'grape',\n",
       " 'grape',\n",
       " 'strawberry',\n",
       " 'peach',\n",
       " 'watermelon']"
      ]
     },
     "execution_count": 17,
     "metadata": {},
     "output_type": "execute_result"
    }
   ],
   "source": [
    "list(fruits.elements()) #Turns our counter dictionary to a list of every element in the dictionary"
   ]
  },
  {
   "cell_type": "markdown",
   "metadata": {},
   "source": [
    "## 2) OrderedDict"
   ]
  },
  {
   "cell_type": "code",
   "execution_count": 25,
   "metadata": {},
   "outputs": [
    {
     "data": {
      "text/plain": [
       "OrderedDict([('fries', 10), ('banana', 1), ('cookie', 3), ('applejuice', 5)])"
      ]
     },
     "execution_count": 25,
     "metadata": {},
     "output_type": "execute_result"
    }
   ],
   "source": [
    "from collections import OrderedDict\n",
    "\n",
    "my_dict = OrderedDict()\n",
    "my_dict['fries'] = 10\n",
    "my_dict['banana'] = 1\n",
    "my_dict['cookie'] = 3\n",
    "my_dict['applejuice'] = 5\n",
    "\n",
    "my_dict"
   ]
  },
  {
   "cell_type": "code",
   "execution_count": 26,
   "metadata": {},
   "outputs": [],
   "source": [
    "my_dict['grapes'] = 6"
   ]
  },
  {
   "cell_type": "code",
   "execution_count": 27,
   "metadata": {},
   "outputs": [
    {
     "data": {
      "text/plain": [
       "OrderedDict([('fries', 10),\n",
       "             ('banana', 1),\n",
       "             ('cookie', 3),\n",
       "             ('applejuice', 5),\n",
       "             ('grapes', 6)])"
      ]
     },
     "execution_count": 27,
     "metadata": {},
     "output_type": "execute_result"
    }
   ],
   "source": [
    "my_dict"
   ]
  },
  {
   "cell_type": "markdown",
   "metadata": {},
   "source": [
    "### Reordering in OrderedDict"
   ]
  },
  {
   "cell_type": "code",
   "execution_count": 28,
   "metadata": {},
   "outputs": [
    {
     "data": {
      "text/plain": [
       "OrderedDict([('fries', 10),\n",
       "             ('banana', 1),\n",
       "             ('applejuice', 5),\n",
       "             ('grapes', 6),\n",
       "             ('cookie', 3)])"
      ]
     },
     "execution_count": 28,
     "metadata": {},
     "output_type": "execute_result"
    }
   ],
   "source": [
    "my_dict.move_to_end('cookie') #move item to the very end\n",
    "my_dict"
   ]
  },
  {
   "cell_type": "code",
   "execution_count": 29,
   "metadata": {},
   "outputs": [
    {
     "data": {
      "text/plain": [
       "OrderedDict([('cookie', 3),\n",
       "             ('fries', 10),\n",
       "             ('banana', 1),\n",
       "             ('applejuice', 5),\n",
       "             ('grapes', 6)])"
      ]
     },
     "execution_count": 29,
     "metadata": {},
     "output_type": "execute_result"
    }
   ],
   "source": [
    "my_dict.move_to_end('cookie', last = False) # move item to the beginning\n",
    "my_dict"
   ]
  },
  {
   "cell_type": "markdown",
   "metadata": {},
   "source": [
    "### Return and remove key, value pair"
   ]
  },
  {
   "cell_type": "code",
   "execution_count": 30,
   "metadata": {},
   "outputs": [
    {
     "data": {
      "text/plain": [
       "('cookie', 3)"
      ]
     },
     "execution_count": 30,
     "metadata": {},
     "output_type": "execute_result"
    }
   ],
   "source": [
    "my_dict.popitem(last=False) #returns and removes a (key, value) pair in FIFO order"
   ]
  },
  {
   "cell_type": "code",
   "execution_count": 32,
   "metadata": {},
   "outputs": [
    {
     "data": {
      "text/plain": [
       "('grapes', 6)"
      ]
     },
     "execution_count": 32,
     "metadata": {},
     "output_type": "execute_result"
    }
   ],
   "source": [
    "my_dict.popitem() #returns and removes a (key, value) pair in LIFO order"
   ]
  },
  {
   "cell_type": "code",
   "execution_count": 33,
   "metadata": {},
   "outputs": [
    {
     "data": {
      "text/plain": [
       "OrderedDict([('fries', 10), ('banana', 1), ('applejuice', 5)])"
      ]
     },
     "execution_count": 33,
     "metadata": {},
     "output_type": "execute_result"
    }
   ],
   "source": [
    "my_dict"
   ]
  },
  {
   "cell_type": "markdown",
   "metadata": {},
   "source": [
    "## 3) defaultDict"
   ]
  },
  {
   "cell_type": "markdown",
   "metadata": {},
   "source": [
    "### Example 1"
   ]
  },
  {
   "cell_type": "code",
   "execution_count": 23,
   "metadata": {},
   "outputs": [],
   "source": [
    "from collections import defaultdict\n",
    "sport_list = 'soccer golf soccer basketball skiing tennis soccer tennis golf'.split()\n",
    "sport_count = defaultdict(int) # default value of int is 0\n",
    "for sport in sport_list:\n",
    "    sport_count[sport] += 1 # increment element's value by 1"
   ]
  },
  {
   "cell_type": "code",
   "execution_count": 24,
   "metadata": {},
   "outputs": [
    {
     "data": {
      "text/plain": [
       "defaultdict(int,\n",
       "            {'basketball': 1,\n",
       "             'golf': 2,\n",
       "             'skiing': 1,\n",
       "             'soccer': 3,\n",
       "             'tennis': 2})"
      ]
     },
     "execution_count": 24,
     "metadata": {},
     "output_type": "execute_result"
    }
   ],
   "source": [
    "sport_count"
   ]
  },
  {
   "cell_type": "markdown",
   "metadata": {},
   "source": [
    "### Example 2"
   ]
  },
  {
   "cell_type": "code",
   "execution_count": 11,
   "metadata": {},
   "outputs": [],
   "source": [
    "from collections import defaultdict\n",
    "city_list = [('CA','Oakland'), ('CA','San Francisco'), ('OR','Portland'), \\\n",
    "             ('CA','Sacramento'), ('CA', 'Palo Alto'), ('OR', 'Bend'), ('NY', 'New York')]\n",
    "\n",
    "cities_by_state = defaultdict(list) \n",
    "for state, city in city_list:\n",
    "    cities_by_state[state].append(city)"
   ]
  },
  {
   "cell_type": "code",
   "execution_count": 12,
   "metadata": {},
   "outputs": [
    {
     "data": {
      "text/plain": [
       "defaultdict(list,\n",
       "            {'CA': ['Oakland', 'San Francisco', 'Sacramento', 'Palo Alto'],\n",
       "             'NY': ['New York'],\n",
       "             'OR': ['Portland', 'Bend']})"
      ]
     },
     "execution_count": 12,
     "metadata": {},
     "output_type": "execute_result"
    }
   ],
   "source": [
    "cities_by_state"
   ]
  },
  {
   "cell_type": "code",
   "execution_count": 16,
   "metadata": {},
   "outputs": [
    {
     "data": {
      "text/plain": [
       "defaultdict(list,\n",
       "            {'CA': ['Oakland', 'San Francisco', 'Sacramento', 'Palo Alto'],\n",
       "             'MA': [],\n",
       "             'NY': ['New York'],\n",
       "             'OR': ['Portland', 'Bend']})"
      ]
     },
     "execution_count": 16,
     "metadata": {},
     "output_type": "execute_result"
    }
   ],
   "source": [
    "cities_by_state['MA']\n",
    "cities_by_state"
   ]
  },
  {
   "cell_type": "markdown",
   "metadata": {},
   "source": [
    "### Example 3"
   ]
  },
  {
   "cell_type": "code",
   "execution_count": 28,
   "metadata": {},
   "outputs": [
    {
     "data": {
      "text/plain": [
       "defaultdict(<function __main__.<lambda>>,\n",
       "            {'basketball': 11,\n",
       "             'golf': 12,\n",
       "             'skiing': 11,\n",
       "             'soccer': 13,\n",
       "             'tennis': 12})"
      ]
     },
     "execution_count": 28,
     "metadata": {},
     "output_type": "execute_result"
    }
   ],
   "source": [
    "sport_list = 'soccer golf soccer basketball skiing tennis soccer tennis golf'.split()\n",
    "sport_count = defaultdict(lambda: 10) # default value is set to 10\n",
    "for sport in sport_list:\n",
    "    sport_count[sport] += 1 # increment element's value by 1\n",
    "    \n",
    "sport_count"
   ]
  },
  {
   "cell_type": "code",
   "execution_count": null,
   "metadata": {},
   "outputs": [],
   "source": []
  },
  {
   "cell_type": "code",
   "execution_count": null,
   "metadata": {},
   "outputs": [],
   "source": []
  }
 ],
 "metadata": {
  "kernelspec": {
   "display_name": "Python 3",
   "language": "python",
   "name": "python3"
  },
  "language_info": {
   "codemirror_mode": {
    "name": "ipython",
    "version": 3
   },
   "file_extension": ".py",
   "mimetype": "text/x-python",
   "name": "python",
   "nbconvert_exporter": "python",
   "pygments_lexer": "ipython3",
   "version": "3.6.4"
  }
 },
 "nbformat": 4,
 "nbformat_minor": 2
}
